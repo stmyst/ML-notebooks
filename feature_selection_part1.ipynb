{
 "cells": [
  {
   "cell_type": "markdown",
   "metadata": {},
   "source": [
    "# Отбор признаков в задачах машинного обучения. Часть 1.  \n",
    "\n",
    "Часто наборы данных, с которыми приходится работать, содержат большое количество признаков, число которых может достигать нескольких сотен и даже тысяч. При построении модели машинного обучения не всегда понятно, какие из признаков действительно для неё важны (т.е. имеют связь с целевой переменной), а какие являются избыточными (или шумовыми). Удаление избыточных признаков позволяет лучше понять данные, а также сократить время настройки модели, улучшить её точность и облегчить интерпретируемость. Иногда эта задача и вовсе может быть самой значимой, например, нахождение оптимального набора признаков может помочь расшифровать механизмы, лежащие в основе исследуемой проблемы. Это может быть полезным для разработки различных методик, например, банковского скоринга, поиска фрода или медицинских диагностических тестов. Методы отбора признаков обычно делят на 3 категории: фильтры (filter methods), встроенные методы (embedded methods) и обёртки (wrapper methods). Выбор подходящего метода не всегда очевиден и зависит от задачи и имеющихся данных. Цель настоящего цикла статей - провести краткий обзор некоторых популярных методов отбора признаков с обсуждением их достоинств, недостатков и особенностей реализации. Первая часть посвещена фильтрам и встроенным методам.  \n",
    "   \n",
    "## 1. Методы фильтрации\n",
    "\n",
    "Методы фильтрации применяются до обучения модели и, как правило, имеют низкую стоимость вычислений. К ним можно отнести визуальный анализ (например, удаление признака, у которого только одно значение, или большинство значений пропущено), оценку признаков с помощью какого-нибудь статистического критерия (дисперсии, корреляции, $\\chi^2$ и др.) и экспертную оценку (удаление признаков, которые не подходят по смыслу, или признаков с некорректными значениями). \n",
    "\n",
    "Простейшим способом оценки пригодности признаков является разведочный анализ данных (например, с библиотекой [pandas-profiling](https://newtechaudit.ru/uskoryaem-analiz-dannyh-c-pomoshhyu-pandas-profiling/)). Эту задачу можно автоматизировать с помощью библиотеки [feature-selector](https://github.com/WillKoehrsen/feature-selector), которая отбирает признаки по следующим параметрам:\n",
    "- Количество пропущенных значений (удаляются признаки у которых процент пропущенных значений больше порогового).\n",
    "- Коэффициент корреляции (удаляются признаки, у которых коэффициент корреляции больше порогового).\n",
    "- Вариативность (удаляются признаки, состоящие из одного значения).\n",
    "- Оценка важности признаков с помощью lightgbm (удаляются признаки, имеющие низкую важность в модели lightgbm. Следует применять только если lightgbm имеет хорошую точность.)\n",
    "\n",
    "Туториал по этой библиотеке находится [здесь](https://github.com/WillKoehrsen/feature-selector/blob/master/).\n",
    "\n",
    "Более сложные методы автоматического отбора признаков реализованы в sklearn. [VarianceThreshold](https://scikit-learn.org/stable/modules/generated/sklearn.feature_selection.VarianceThreshold.html#sklearn.feature_selection.VarianceThreshold) отбирает признаки, у которых дисперсия меньше заданного значения. [SelectKBest](https://scikit-learn.org/stable/modules/generated/sklearn.feature_selection.SelectKBest.html#sklearn.feature_selection.SelectKBest) и [SelectPercentile](https://scikit-learn.org/stable/modules/generated/sklearn.feature_selection.SelectPercentile.html#sklearn.feature_selection.SelectPercentile) оценивают взаимосвязь предикторов с целевой переменной используя статистические тесты, позволяя отобрать соответственно заданное количество и долю наилучших по заданному критерию признаков. В качестве статистических тестов используются F-тест, $\\chi^2$ и взаимная информация.\n",
    "\n",
    "### F-тест\n",
    "\n",
    "F-тест оценивает степень линейной зависимости между предикторами и целевой переменной, поэтому он лучше всего подойдёт для линейных моделей. Реализован в sklearn как [f_regression](https://scikit-learn.org/stable/modules/generated/sklearn.feature_selection.f_regression.html#sklearn.feature_selection.f_regression) и [f_classif](https://scikit-learn.org/stable/modules/generated/sklearn.feature_selection.f_classif.html#sklearn.feature_selection.f_classif) соответственно для регрессии и классификации.\n",
    "\n",
    "### $\\chi^2$\n",
    "\n",
    "Этот тест используется в задах классификации и оценивает зависимость между признаками и классами целевой пременной. Описание метода приведено [здесь](https://habr.com/ru/post/264915/) и [здесь](https://scikit-learn.org/stable/modules/generated/sklearn.feature_selection.chi2.html#sklearn.feature_selection.chi2) (для sklearn). Стоит отметить, что этот тип тестов требует неотрицательных и правильно отмасштабированных признаков.\n",
    "\n",
    "### Взаимная информация\n",
    "\n",
    "Взаимная информация показывает насколько чётко определена целевая переменная если известны значения предиктора (подробнее [здесь](https://habr.com/ru/post/264915/) и [здесь](http://www.machinelearning.ru/wiki/images/2/21/PZAD2017_09_featureselection.pdf)). Этот тип тестов считается самым удобным в использовании - он хорошо работает \"из коробки\" и позволяет находить нелинейные зависимости. Реализован в sklearn как [mutual_info_regression](https://scikit-learn.org/stable/modules/generated/sklearn.feature_selection.mutual_info_regression.html#sklearn.feature_selection.mutual_info_regression) и [mutual_info_classif](https://scikit-learn.org/stable/modules/generated/sklearn.feature_selection.mutual_info_classif.html#sklearn.feature_selection.mutual_info_classif) соответственно для регрессии и классификации.\n",
    "\n",
    "## 2. Встроенные методы\n",
    "\n",
    "Встроенные методы выполняют отбор признаков во время обучения модели, оптимизируя их набор для достижения лучшей точности. К этим методам можно отнести регуляризацию в линейных моделях (обычно L1) и расчёт важности признаков в алгоритмах с деревьями (который хорошо разобран [здесь](https://mlcourse.ai/articles/topic5-part3-feature-importance/#3.-Sklearn-Random-Forest-Feature-Importance)). Отметим, что для линейных моделей требуется масштабирование и нормализация данных.   \n",
    "\n",
    "\n",
    "## Пример\n",
    "Рассмотрим применение описанных выше методов в реальной [задаче](https://archive.ics.uci.edu/ml/datasets/Adult) – предсказать, зарабатывает ли человек больше $50 тыс. Загрузим библиотеки и данные, для удобства оставив только численные признаки:\n",
    "- age – возраст\n",
    "- fnlwgt (final weight) – примерная оценка количества людей, которое представляет каждая строка данных\n",
    "- educational-num – длительность обучения\n",
    "- capital-gain – прирост капитала\n",
    "- capital-loss – потеря капитала\n",
    "- hours-per-week – количество рабочих часов в неделю"
   ]
  },
  {
   "cell_type": "code",
   "execution_count": 1,
   "metadata": {},
   "outputs": [
    {
     "data": {
      "text/html": [
       "<div>\n",
       "<style scoped>\n",
       "    .dataframe tbody tr th:only-of-type {\n",
       "        vertical-align: middle;\n",
       "    }\n",
       "\n",
       "    .dataframe tbody tr th {\n",
       "        vertical-align: top;\n",
       "    }\n",
       "\n",
       "    .dataframe thead th {\n",
       "        text-align: right;\n",
       "    }\n",
       "</style>\n",
       "<table border=\"1\" class=\"dataframe\">\n",
       "  <thead>\n",
       "    <tr style=\"text-align: right;\">\n",
       "      <th></th>\n",
       "      <th>age</th>\n",
       "      <th>fnlwgt</th>\n",
       "      <th>education-num</th>\n",
       "      <th>capital-gain</th>\n",
       "      <th>capital-loss</th>\n",
       "      <th>hours-per-week</th>\n",
       "    </tr>\n",
       "  </thead>\n",
       "  <tbody>\n",
       "    <tr>\n",
       "      <th>0</th>\n",
       "      <td>39</td>\n",
       "      <td>77516</td>\n",
       "      <td>13</td>\n",
       "      <td>2174</td>\n",
       "      <td>0</td>\n",
       "      <td>40</td>\n",
       "    </tr>\n",
       "    <tr>\n",
       "      <th>1</th>\n",
       "      <td>50</td>\n",
       "      <td>83311</td>\n",
       "      <td>13</td>\n",
       "      <td>0</td>\n",
       "      <td>0</td>\n",
       "      <td>13</td>\n",
       "    </tr>\n",
       "    <tr>\n",
       "      <th>2</th>\n",
       "      <td>38</td>\n",
       "      <td>215646</td>\n",
       "      <td>9</td>\n",
       "      <td>0</td>\n",
       "      <td>0</td>\n",
       "      <td>40</td>\n",
       "    </tr>\n",
       "    <tr>\n",
       "      <th>3</th>\n",
       "      <td>53</td>\n",
       "      <td>234721</td>\n",
       "      <td>7</td>\n",
       "      <td>0</td>\n",
       "      <td>0</td>\n",
       "      <td>40</td>\n",
       "    </tr>\n",
       "    <tr>\n",
       "      <th>4</th>\n",
       "      <td>28</td>\n",
       "      <td>338409</td>\n",
       "      <td>13</td>\n",
       "      <td>0</td>\n",
       "      <td>0</td>\n",
       "      <td>40</td>\n",
       "    </tr>\n",
       "  </tbody>\n",
       "</table>\n",
       "</div>"
      ],
      "text/plain": [
       "   age  fnlwgt  education-num  capital-gain  capital-loss  hours-per-week\n",
       "0   39   77516             13          2174             0              40\n",
       "1   50   83311             13             0             0              13\n",
       "2   38  215646              9             0             0              40\n",
       "3   53  234721              7             0             0              40\n",
       "4   28  338409             13             0             0              40"
      ]
     },
     "execution_count": 1,
     "metadata": {},
     "output_type": "execute_result"
    }
   ],
   "source": [
    "import pandas as pd\n",
    "import numpy as np\n",
    "import matplotlib.pyplot as plt\n",
    "import seaborn as sns\n",
    "from sklearn.feature_selection import GenericUnivariateSelect, mutual_info_classif, SelectFromModel\n",
    "from sklearn.pipeline import Pipeline\n",
    "from sklearn.model_selection import StratifiedKFold, GridSearchCV, cross_val_score\n",
    "from sklearn.ensemble import RandomForestClassifier\n",
    "from sklearn.preprocessing import PowerTransformer\n",
    "from sklearn.linear_model import LogisticRegression\n",
    "\n",
    "# зафиксируем значение генератора случайных чисел для воспроизводимости \n",
    "SEED = 1\n",
    "\n",
    "# Функции, которые в дальнейшем понадобятся\n",
    "def plot_features_scores(model, data, target, column_names, model_type):\n",
    "    '''Функция для визуализации важности признаков'''\n",
    "    \n",
    "    model.fit(data, target)\n",
    "    \n",
    "    if model_type == 'rf':\n",
    "        (pd.DataFrame(data={'score': model['rf'].feature_importances_}, \n",
    "                      index=column_names).sort_values(by='score')\n",
    "                                         .plot(kind='barh', grid=True,\n",
    "                                               figsize=(6,6), legend=False));\n",
    "    elif model_type == 'lr':\n",
    "        (pd.DataFrame(data={'score': model['lr'].coef_[0]},\n",
    "                      index=column_names).sort_values(by='score')\n",
    "                                         .plot(kind='barh', grid=True,\n",
    "                                               figsize=(6,6), legend=False));\n",
    "        \n",
    "    else:\n",
    "        raise KeyError('Unknown model_type')\n",
    "\n",
    "def grid_search(model, gs_params):\n",
    "    '''Функция для подбора гиперпараметров с помощью перекрёстной проверки'''\n",
    "     \n",
    "    gs = GridSearchCV(estimator=model, param_grid=gs_params, refit=True,\n",
    "                      scoring='roc_auc', n_jobs=-1, cv=skf, verbose=0)\n",
    "    gs.fit(X, y)\n",
    "    scores = [gs.cv_results_[f'split{i}_test_score'][gs.best_index_] for i in range(5)]\n",
    "    print('scores = {}, \\nmean score = {:.5f} +/- {:.5f} \\\n",
    "           \\nbest params = {}'.format(scores,\n",
    "                                      gs.cv_results_['mean_test_score'][gs.best_index_],\n",
    "                                      gs.cv_results_['std_test_score'][gs.best_index_],\n",
    "                                      gs.best_params_))\n",
    "    return gs\n",
    "        \n",
    "# загрузим данные        \n",
    "df = pd.read_csv(r'..\\adult.data.csv')\n",
    "\n",
    "# датасет, с которым будем работать\n",
    "# оставим только численые признаки\n",
    "X = df.select_dtypes(exclude=['object']).copy()\n",
    "# преобразуем целевую переменную\n",
    "y = df['salary'].map({'<=50K':0, '>50K':1}).values\n",
    "\n",
    "X.head()"
   ]
  },
  {
   "cell_type": "code",
   "execution_count": 2,
   "metadata": {},
   "outputs": [
    {
     "data": {
      "text/html": [
       "<div>\n",
       "<style scoped>\n",
       "    .dataframe tbody tr th:only-of-type {\n",
       "        vertical-align: middle;\n",
       "    }\n",
       "\n",
       "    .dataframe tbody tr th {\n",
       "        vertical-align: top;\n",
       "    }\n",
       "\n",
       "    .dataframe thead th {\n",
       "        text-align: right;\n",
       "    }\n",
       "</style>\n",
       "<table border=\"1\" class=\"dataframe\">\n",
       "  <thead>\n",
       "    <tr style=\"text-align: right;\">\n",
       "      <th></th>\n",
       "      <th>age</th>\n",
       "      <th>fnlwgt</th>\n",
       "      <th>education-num</th>\n",
       "      <th>capital-gain</th>\n",
       "      <th>capital-loss</th>\n",
       "      <th>hours-per-week</th>\n",
       "    </tr>\n",
       "  </thead>\n",
       "  <tbody>\n",
       "    <tr>\n",
       "      <th>count</th>\n",
       "      <td>32561.000000</td>\n",
       "      <td>3.256100e+04</td>\n",
       "      <td>32561.000000</td>\n",
       "      <td>32561.000000</td>\n",
       "      <td>32561.000000</td>\n",
       "      <td>32561.000000</td>\n",
       "    </tr>\n",
       "    <tr>\n",
       "      <th>mean</th>\n",
       "      <td>38.581647</td>\n",
       "      <td>1.897784e+05</td>\n",
       "      <td>10.080679</td>\n",
       "      <td>1077.648844</td>\n",
       "      <td>87.303830</td>\n",
       "      <td>40.437456</td>\n",
       "    </tr>\n",
       "    <tr>\n",
       "      <th>std</th>\n",
       "      <td>13.640433</td>\n",
       "      <td>1.055500e+05</td>\n",
       "      <td>2.572720</td>\n",
       "      <td>7385.292085</td>\n",
       "      <td>402.960219</td>\n",
       "      <td>12.347429</td>\n",
       "    </tr>\n",
       "    <tr>\n",
       "      <th>min</th>\n",
       "      <td>17.000000</td>\n",
       "      <td>1.228500e+04</td>\n",
       "      <td>1.000000</td>\n",
       "      <td>0.000000</td>\n",
       "      <td>0.000000</td>\n",
       "      <td>1.000000</td>\n",
       "    </tr>\n",
       "    <tr>\n",
       "      <th>25%</th>\n",
       "      <td>28.000000</td>\n",
       "      <td>1.178270e+05</td>\n",
       "      <td>9.000000</td>\n",
       "      <td>0.000000</td>\n",
       "      <td>0.000000</td>\n",
       "      <td>40.000000</td>\n",
       "    </tr>\n",
       "    <tr>\n",
       "      <th>50%</th>\n",
       "      <td>37.000000</td>\n",
       "      <td>1.783560e+05</td>\n",
       "      <td>10.000000</td>\n",
       "      <td>0.000000</td>\n",
       "      <td>0.000000</td>\n",
       "      <td>40.000000</td>\n",
       "    </tr>\n",
       "    <tr>\n",
       "      <th>75%</th>\n",
       "      <td>48.000000</td>\n",
       "      <td>2.370510e+05</td>\n",
       "      <td>12.000000</td>\n",
       "      <td>0.000000</td>\n",
       "      <td>0.000000</td>\n",
       "      <td>45.000000</td>\n",
       "    </tr>\n",
       "    <tr>\n",
       "      <th>max</th>\n",
       "      <td>90.000000</td>\n",
       "      <td>1.484705e+06</td>\n",
       "      <td>16.000000</td>\n",
       "      <td>99999.000000</td>\n",
       "      <td>4356.000000</td>\n",
       "      <td>99.000000</td>\n",
       "    </tr>\n",
       "  </tbody>\n",
       "</table>\n",
       "</div>"
      ],
      "text/plain": [
       "                age        fnlwgt  education-num  capital-gain  capital-loss  \\\n",
       "count  32561.000000  3.256100e+04   32561.000000  32561.000000  32561.000000   \n",
       "mean      38.581647  1.897784e+05      10.080679   1077.648844     87.303830   \n",
       "std       13.640433  1.055500e+05       2.572720   7385.292085    402.960219   \n",
       "min       17.000000  1.228500e+04       1.000000      0.000000      0.000000   \n",
       "25%       28.000000  1.178270e+05       9.000000      0.000000      0.000000   \n",
       "50%       37.000000  1.783560e+05      10.000000      0.000000      0.000000   \n",
       "75%       48.000000  2.370510e+05      12.000000      0.000000      0.000000   \n",
       "max       90.000000  1.484705e+06      16.000000  99999.000000   4356.000000   \n",
       "\n",
       "       hours-per-week  \n",
       "count    32561.000000  \n",
       "mean        40.437456  \n",
       "std         12.347429  \n",
       "min          1.000000  \n",
       "25%         40.000000  \n",
       "50%         40.000000  \n",
       "75%         45.000000  \n",
       "max         99.000000  "
      ]
     },
     "execution_count": 2,
     "metadata": {},
     "output_type": "execute_result"
    }
   ],
   "source": [
    "X.describe()"
   ]
  },
  {
   "cell_type": "markdown",
   "metadata": {},
   "source": [
    "Посмотрим точность на кросс-валидации и важность признаков для случайного леса:"
   ]
  },
  {
   "cell_type": "code",
   "execution_count": 3,
   "metadata": {},
   "outputs": [
    {
     "name": "stdout",
     "output_type": "stream",
     "text": [
      "scores = [0.82427915 0.82290796 0.83106668 0.8192637  0.83155106] \n",
      "mean score = 0.82581 +/- 0.00478\n"
     ]
    },
    {
     "data": {
      "image/png": "[encoded data removed]",
      "text/plain": [
       "<Figure size 432x432 with 1 Axes>"
      ]
     },
     "metadata": {
      "needs_background": "light"
     },
     "output_type": "display_data"
    }
   ],
   "source": [
    "rf = Pipeline([('rf', RandomForestClassifier(n_jobs=-1, \n",
    "                                             class_weight='balanced', \n",
    "                                             random_state=SEED))])\n",
    "\n",
    "# параметры кросс-валидации (стратифицированная 5-фолдовая с перемешиванием) \n",
    "skf = StratifiedKFold(n_splits=5, shuffle=True, random_state=SEED)\n",
    "\n",
    "scores = cross_val_score(estimator=rf, X=X, y=y, \n",
    "                         cv=skf, scoring='roc_auc', n_jobs=-1)\n",
    "print('scores = {} \\nmean score = {:.5f} +/- {:.5f}'.format(scores, scores.mean(), scores.std()))\n",
    "\n",
    "# важность признаков\n",
    "plot_features_scores(model=rf, data=X, target=y, column_names=X.columns, model_type='rf')"
   ]
  },
  {
   "cell_type": "markdown",
   "metadata": {},
   "source": [
    "Самым важным признаком для случайного леса является fnlwgt. Это можно интерпретировать как то, что главным фактором того, что человек зарабатывает больше $50 тыс. является количество людей с такими же характеристиками. Такая интерпретация выглядит нелогичной, и происходит это потому, что модели с деревьями могут выдавать сильно смещённую оценку признаков (подробнее [здесь](https://explained.ai/rf-importance/)). Притом, чем хуже настроена модель, тем сильнее может быть смещение, поэтому доверять оценкам таких моделей надо с осторожностью. \n",
    "\n",
    "Повторим процедуру для линейной модели (с L1-регуляризацией). Для нормализации данных будем использовать метод [PowerTransformer](https://scikit-learn.org/stable/modules/generated/sklearn.preprocessing.PowerTransformer.html#sklearn.preprocessing.PowerTransformer)."
   ]
  },
  {
   "cell_type": "code",
   "execution_count": 4,
   "metadata": {},
   "outputs": [
    {
     "name": "stdout",
     "output_type": "stream",
     "text": [
      "scores = [0.82034993 0.83000963 0.8348707  0.81787667 0.83548066] \n",
      "mean score = 0.82772 +/- 0.00732\n"
     ]
    },
    {
     "data": {
      "image/png": "[encoded data removed]",
      "text/plain": [
       "<Figure size 432x432 with 1 Axes>"
      ]
     },
     "metadata": {
      "needs_background": "light"
     },
     "output_type": "display_data"
    }
   ],
   "source": [
    "lr = Pipeline([('p_trans', PowerTransformer(method='yeo-johnson', standardize=True)),\n",
    "               ('lr', LogisticRegression(solver='liblinear',\n",
    "                                         penalty='l1',\n",
    "                                         max_iter=200,\n",
    "                                         class_weight='balanced',\n",
    "                                         random_state=SEED)\n",
    "               )])\n",
    "scores = cross_val_score(estimator=lr, X=X, y=y, \n",
    "                         cv=skf, scoring='roc_auc', n_jobs=-1)\n",
    "print('scores = {} \\nmean score = {:.5f} +/- {:.5f}'.format(scores, scores.mean(), scores.std()))\n",
    "\n",
    "plot_features_scores(model=lr, data=X, target=y, column_names=X.columns, model_type='lr')"
   ]
  },
  {
   "cell_type": "markdown",
   "metadata": {},
   "source": [
    "Создадим 12 шумовых признаков, элементами которых будут некоррелируемые случайные числа из выборок с нормальным, равномерным и Лапласовым распределениями. Параметры каждого распределения подбираются случайным образом независимо друг от друга."
   ]
  },
  {
   "cell_type": "code",
   "execution_count": 5,
   "metadata": {},
   "outputs": [
    {
     "data": {
      "text/html": [
       "<div>\n",
       "<style scoped>\n",
       "    .dataframe tbody tr th:only-of-type {\n",
       "        vertical-align: middle;\n",
       "    }\n",
       "\n",
       "    .dataframe tbody tr th {\n",
       "        vertical-align: top;\n",
       "    }\n",
       "\n",
       "    .dataframe thead th {\n",
       "        text-align: right;\n",
       "    }\n",
       "</style>\n",
       "<table border=\"1\" class=\"dataframe\">\n",
       "  <thead>\n",
       "    <tr style=\"text-align: right;\">\n",
       "      <th></th>\n",
       "      <th>age</th>\n",
       "      <th>fnlwgt</th>\n",
       "      <th>education-num</th>\n",
       "      <th>capital-gain</th>\n",
       "      <th>capital-loss</th>\n",
       "      <th>hours-per-week</th>\n",
       "      <th>norm_0</th>\n",
       "      <th>unif_0</th>\n",
       "      <th>lapl_0</th>\n",
       "      <th>norm_1</th>\n",
       "      <th>unif_1</th>\n",
       "      <th>lapl_1</th>\n",
       "      <th>norm_2</th>\n",
       "      <th>unif_2</th>\n",
       "      <th>lapl_2</th>\n",
       "      <th>norm_3</th>\n",
       "      <th>unif_3</th>\n",
       "      <th>lapl_3</th>\n",
       "    </tr>\n",
       "  </thead>\n",
       "  <tbody>\n",
       "    <tr>\n",
       "      <th>0</th>\n",
       "      <td>39</td>\n",
       "      <td>77516</td>\n",
       "      <td>13</td>\n",
       "      <td>2174</td>\n",
       "      <td>0</td>\n",
       "      <td>40</td>\n",
       "      <td>0.246454</td>\n",
       "      <td>4.996750</td>\n",
       "      <td>2.311467</td>\n",
       "      <td>6.474587</td>\n",
       "      <td>6.431455</td>\n",
       "      <td>-0.932124</td>\n",
       "      <td>3.773136</td>\n",
       "      <td>3.382773</td>\n",
       "      <td>-1.324387</td>\n",
       "      <td>8.031167</td>\n",
       "      <td>2.142457</td>\n",
       "      <td>8.050902</td>\n",
       "    </tr>\n",
       "    <tr>\n",
       "      <th>1</th>\n",
       "      <td>50</td>\n",
       "      <td>83311</td>\n",
       "      <td>13</td>\n",
       "      <td>0</td>\n",
       "      <td>0</td>\n",
       "      <td>13</td>\n",
       "      <td>-4.656718</td>\n",
       "      <td>4.693542</td>\n",
       "      <td>2.095298</td>\n",
       "      <td>14.622329</td>\n",
       "      <td>2.795007</td>\n",
       "      <td>6.465348</td>\n",
       "      <td>-3.275117</td>\n",
       "      <td>3.787041</td>\n",
       "      <td>0.652694</td>\n",
       "      <td>7.537461</td>\n",
       "      <td>5.247103</td>\n",
       "      <td>9.014559</td>\n",
       "    </tr>\n",
       "    <tr>\n",
       "      <th>2</th>\n",
       "      <td>38</td>\n",
       "      <td>215646</td>\n",
       "      <td>9</td>\n",
       "      <td>0</td>\n",
       "      <td>0</td>\n",
       "      <td>40</td>\n",
       "      <td>12.788669</td>\n",
       "      <td>4.255611</td>\n",
       "      <td>22.278713</td>\n",
       "      <td>9.643720</td>\n",
       "      <td>3.533265</td>\n",
       "      <td>2.716441</td>\n",
       "      <td>4.725608</td>\n",
       "      <td>3.126107</td>\n",
       "      <td>23.410698</td>\n",
       "      <td>1.932907</td>\n",
       "      <td>4.933431</td>\n",
       "      <td>13.233319</td>\n",
       "    </tr>\n",
       "    <tr>\n",
       "      <th>3</th>\n",
       "      <td>53</td>\n",
       "      <td>234721</td>\n",
       "      <td>7</td>\n",
       "      <td>0</td>\n",
       "      <td>0</td>\n",
       "      <td>40</td>\n",
       "      <td>-15.713848</td>\n",
       "      <td>3.989797</td>\n",
       "      <td>5.971506</td>\n",
       "      <td>8.978198</td>\n",
       "      <td>7.772238</td>\n",
       "      <td>-5.402306</td>\n",
       "      <td>5.742672</td>\n",
       "      <td>3.084132</td>\n",
       "      <td>0.937932</td>\n",
       "      <td>9.435720</td>\n",
       "      <td>4.915537</td>\n",
       "      <td>-3.396526</td>\n",
       "    </tr>\n",
       "    <tr>\n",
       "      <th>4</th>\n",
       "      <td>28</td>\n",
       "      <td>338409</td>\n",
       "      <td>13</td>\n",
       "      <td>0</td>\n",
       "      <td>0</td>\n",
       "      <td>40</td>\n",
       "      <td>20.703306</td>\n",
       "      <td>3.159246</td>\n",
       "      <td>8.718559</td>\n",
       "      <td>8.217148</td>\n",
       "      <td>4.365603</td>\n",
       "      <td>14.403088</td>\n",
       "      <td>3.023828</td>\n",
       "      <td>6.934299</td>\n",
       "      <td>4.978327</td>\n",
       "      <td>7.355296</td>\n",
       "      <td>2.551361</td>\n",
       "      <td>10.479218</td>\n",
       "    </tr>\n",
       "  </tbody>\n",
       "</table>\n",
       "</div>"
      ],
      "text/plain": [
       "   age  fnlwgt  education-num  capital-gain  capital-loss  hours-per-week  \\\n",
       "0   39   77516             13          2174             0              40   \n",
       "1   50   83311             13             0             0              13   \n",
       "2   38  215646              9             0             0              40   \n",
       "3   53  234721              7             0             0              40   \n",
       "4   28  338409             13             0             0              40   \n",
       "\n",
       "      norm_0    unif_0     lapl_0     norm_1    unif_1     lapl_1    norm_2  \\\n",
       "0   0.246454  4.996750   2.311467   6.474587  6.431455  -0.932124  3.773136   \n",
       "1  -4.656718  4.693542   2.095298  14.622329  2.795007   6.465348 -3.275117   \n",
       "2  12.788669  4.255611  22.278713   9.643720  3.533265   2.716441  4.725608   \n",
       "3 -15.713848  3.989797   5.971506   8.978198  7.772238  -5.402306  5.742672   \n",
       "4  20.703306  3.159246   8.718559   8.217148  4.365603  14.403088  3.023828   \n",
       "\n",
       "     unif_2     lapl_2    norm_3    unif_3     lapl_3  \n",
       "0  3.382773  -1.324387  8.031167  2.142457   8.050902  \n",
       "1  3.787041   0.652694  7.537461  5.247103   9.014559  \n",
       "2  3.126107  23.410698  1.932907  4.933431  13.233319  \n",
       "3  3.084132   0.937932  9.435720  4.915537  -3.396526  \n",
       "4  6.934299   4.978327  7.355296  2.551361  10.479218  "
      ]
     },
     "execution_count": 5,
     "metadata": {},
     "output_type": "execute_result"
    },
    {
     "data": {
      "image/png": "[encoded data removed]",
      "text/plain": [
       "<Figure size 1008x360 with 3 Axes>"
      ]
     },
     "metadata": {
      "needs_background": "light"
     },
     "output_type": "display_data"
    }
   ],
   "source": [
    "# утановим значение генератора случайных чисел для воспроизводимости\n",
    "np.random.seed(SEED)\n",
    "\n",
    "fix, (ax1, ax2, ax3) = plt.subplots(nrows=1, ncols=3, figsize=(14,5))\n",
    "ax1.set_title(\"normal distribution\")\n",
    "ax2.set_title(\"uniform distribution\")\n",
    "ax3.set_title(\"laplace distribution\")\n",
    "for i in range(4):\n",
    "    X.loc[:, f'norm_{i}'] = np.random.normal(loc=np.random.randint(low=0, high=10), \n",
    "                                             scale=np.random.randint(low=1, high=10), \n",
    "                                             size=(X.shape[0], 1))\n",
    "    \n",
    "    X.loc[:, f'unif_{i}'] = np.random.uniform(low=np.random.randint(low=1, high=4), \n",
    "                                              high=np.random.randint(low=5, high=10), \n",
    "                                              size=(X.shape[0], 1))\n",
    "    X.loc[:, f'lapl_{i}'] = np.random.laplace(loc=np.random.randint(low=0, high=10), \n",
    "                                              scale=np.random.randint(low=1, high=10), \n",
    "                                              size=(X.shape[0], 1))\n",
    "    # визуализирукем распределения признаков\n",
    "    sns.kdeplot(X[f'norm_{i}'], ax=ax1)\n",
    "    sns.kdeplot(X[f'unif_{i}'], ax=ax2)\n",
    "    sns.kdeplot(X[f'lapl_{i}'], ax=ax3)\n",
    "\n",
    "# итоговый датасет\n",
    "X.head()"
   ]
  },
  {
   "cell_type": "markdown",
   "metadata": {},
   "source": [
    "Проведём кросс-валидацию на зашумлённых данных и посмотрим важность признаков: "
   ]
  },
  {
   "cell_type": "code",
   "execution_count": 6,
   "metadata": {},
   "outputs": [
    {
     "name": "stdout",
     "output_type": "stream",
     "text": [
      "scores = [0.8522425  0.85382173 0.86249657 0.84897581 0.85443027] \n",
      "mean score = 0.85439 +/- 0.00447\n"
     ]
    },
    {
     "data": {
      "image/png": "[encoded data removed]",
      "text/plain": [
       "<Figure size 432x432 with 1 Axes>"
      ]
     },
     "metadata": {
      "needs_background": "light"
     },
     "output_type": "display_data"
    }
   ],
   "source": [
    "scores = cross_val_score(estimator=rf, X=X, y=y, \n",
    "                         cv=skf, scoring='roc_auc', n_jobs=-1)\n",
    "print('scores = {} \\nmean score = {:.5f} +/- {:.5f}'.format(scores, scores.mean(), scores.std()))\n",
    "plot_features_scores(model=rf, data=X, target=y, column_names=X.columns, model_type='rf')"
   ]
  },
  {
   "cell_type": "markdown",
   "metadata": {},
   "source": [
    "Несмотря на большое количество добавленных шумовых признаков, точность модели на кросс-валидации значительно возросла как на каждом фолде, так и в среднем! Кроме этого, все шумовые признаки имеют высокую важность, сравнимую с двумя оригинальными. Очевидно, что наша модель переобучена, однако в реальных задачах такие ситуации бывает очень сложно распознать, особенно когда при удалении некоторых признаков (про которые неизвестно – шумовые они, или нет) падает валидационная точность. Кроме того, часто бывает сложно подобрать пороговое значение важности признаков для исключения их из модели.\n",
    "\n",
    "Посмотрим результаты для регрессии."
   ]
  },
  {
   "cell_type": "code",
   "execution_count": 7,
   "metadata": {},
   "outputs": [
    {
     "name": "stdout",
     "output_type": "stream",
     "text": [
      "scores = [0.81993058 0.83005516 0.83446553 0.81763029 0.83543145] \n",
      "mean score = 0.82750 +/- 0.00738\n"
     ]
    },
    {
     "data": {
      "image/png": "[encoded data removed]",
      "text/plain": [
       "<Figure size 432x432 with 1 Axes>"
      ]
     },
     "metadata": {
      "needs_background": "light"
     },
     "output_type": "display_data"
    }
   ],
   "source": [
    "scores = cross_val_score(estimator=lr, X=X, y=y, \n",
    "                         cv=skf, scoring='roc_auc', n_jobs=-1)\n",
    "print('scores = {} \\nmean score = {:.5f} +/- {:.5f}'.format(scores, scores.mean(), scores.std()))\n",
    "\n",
    "plot_features_scores(model=lr, data=X, target=y, column_names=X.columns, model_type='lr')"
   ]
  },
  {
   "cell_type": "markdown",
   "metadata": {},
   "source": [
    "После добавления шумовых признаков модель не преобучилась, к тому же эти признки имеют значительно меньшие коэффициенты, чем оригинальные. Отметим, что распределение коэффициентов в линейных моделях часто зависит от способа нормализации или масштабирования признаков.\n",
    "\n",
    "\n",
    "Проведём отбор признаков статистическими методами, для чего будем использовать обобщённый вариант `SelectKBest` и `SelectPercentile`, который называется [GenericUnivariateSelect](https://scikit-learn.org/stable/modules/generated/sklearn.feature_selection.GenericUnivariateSelect.html#sklearn.feature_selection.GenericUnivariateSelect). Он принимает на вход 3 параметра – функцию оценки, режим отбора и его характеристики. В качестве функции оценки будем использовать взаимную информацию. "
   ]
  },
  {
   "cell_type": "code",
   "execution_count": 8,
   "metadata": {},
   "outputs": [
    {
     "data": {
      "text/html": [
       "<div>\n",
       "<style scoped>\n",
       "    .dataframe tbody tr th:only-of-type {\n",
       "        vertical-align: middle;\n",
       "    }\n",
       "\n",
       "    .dataframe tbody tr th {\n",
       "        vertical-align: top;\n",
       "    }\n",
       "\n",
       "    .dataframe thead th {\n",
       "        text-align: right;\n",
       "    }\n",
       "</style>\n",
       "<table border=\"1\" class=\"dataframe\">\n",
       "  <thead>\n",
       "    <tr style=\"text-align: right;\">\n",
       "      <th></th>\n",
       "      <th>score</th>\n",
       "      <th>support</th>\n",
       "    </tr>\n",
       "  </thead>\n",
       "  <tbody>\n",
       "    <tr>\n",
       "      <th>capital-gain</th>\n",
       "      <td>0.080221</td>\n",
       "      <td>True</td>\n",
       "    </tr>\n",
       "    <tr>\n",
       "      <th>age</th>\n",
       "      <td>0.065703</td>\n",
       "      <td>True</td>\n",
       "    </tr>\n",
       "    <tr>\n",
       "      <th>education-num</th>\n",
       "      <td>0.064743</td>\n",
       "      <td>True</td>\n",
       "    </tr>\n",
       "    <tr>\n",
       "      <th>hours-per-week</th>\n",
       "      <td>0.043655</td>\n",
       "      <td>True</td>\n",
       "    </tr>\n",
       "    <tr>\n",
       "      <th>capital-loss</th>\n",
       "      <td>0.033617</td>\n",
       "      <td>True</td>\n",
       "    </tr>\n",
       "    <tr>\n",
       "      <th>fnlwgt</th>\n",
       "      <td>0.033390</td>\n",
       "      <td>True</td>\n",
       "    </tr>\n",
       "    <tr>\n",
       "      <th>norm_3</th>\n",
       "      <td>0.003217</td>\n",
       "      <td>False</td>\n",
       "    </tr>\n",
       "    <tr>\n",
       "      <th>unif_3</th>\n",
       "      <td>0.002696</td>\n",
       "      <td>False</td>\n",
       "    </tr>\n",
       "    <tr>\n",
       "      <th>norm_0</th>\n",
       "      <td>0.002506</td>\n",
       "      <td>False</td>\n",
       "    </tr>\n",
       "    <tr>\n",
       "      <th>norm_2</th>\n",
       "      <td>0.002052</td>\n",
       "      <td>False</td>\n",
       "    </tr>\n",
       "    <tr>\n",
       "      <th>lapl_3</th>\n",
       "      <td>0.001201</td>\n",
       "      <td>False</td>\n",
       "    </tr>\n",
       "    <tr>\n",
       "      <th>unif_1</th>\n",
       "      <td>0.001144</td>\n",
       "      <td>False</td>\n",
       "    </tr>\n",
       "    <tr>\n",
       "      <th>lapl_1</th>\n",
       "      <td>0.000000</td>\n",
       "      <td>False</td>\n",
       "    </tr>\n",
       "    <tr>\n",
       "      <th>unif_2</th>\n",
       "      <td>0.000000</td>\n",
       "      <td>False</td>\n",
       "    </tr>\n",
       "    <tr>\n",
       "      <th>lapl_2</th>\n",
       "      <td>0.000000</td>\n",
       "      <td>False</td>\n",
       "    </tr>\n",
       "    <tr>\n",
       "      <th>lapl_0</th>\n",
       "      <td>0.000000</td>\n",
       "      <td>False</td>\n",
       "    </tr>\n",
       "    <tr>\n",
       "      <th>unif_0</th>\n",
       "      <td>0.000000</td>\n",
       "      <td>False</td>\n",
       "    </tr>\n",
       "    <tr>\n",
       "      <th>norm_1</th>\n",
       "      <td>0.000000</td>\n",
       "      <td>False</td>\n",
       "    </tr>\n",
       "  </tbody>\n",
       "</table>\n",
       "</div>"
      ],
      "text/plain": [
       "                   score  support\n",
       "capital-gain    0.080221     True\n",
       "age             0.065703     True\n",
       "education-num   0.064743     True\n",
       "hours-per-week  0.043655     True\n",
       "capital-loss    0.033617     True\n",
       "fnlwgt          0.033390     True\n",
       "norm_3          0.003217    False\n",
       "unif_3          0.002696    False\n",
       "norm_0          0.002506    False\n",
       "norm_2          0.002052    False\n",
       "lapl_3          0.001201    False\n",
       "unif_1          0.001144    False\n",
       "lapl_1          0.000000    False\n",
       "unif_2          0.000000    False\n",
       "lapl_2          0.000000    False\n",
       "lapl_0          0.000000    False\n",
       "unif_0          0.000000    False\n",
       "norm_1          0.000000    False"
      ]
     },
     "execution_count": 8,
     "metadata": {},
     "output_type": "execute_result"
    }
   ],
   "source": [
    "selector = GenericUnivariateSelect(score_func=mutual_info_classif, \n",
    "                                   mode='k_best', \n",
    "                                   param=6)\n",
    "# применим к нашему датасету\n",
    "selector.fit(X, y)\n",
    "# метод transform вернёт массив с отобраными признаками\n",
    "# выведем результаты оценки каждого признака \n",
    "pd.DataFrame(data={'score':selector.scores_,\n",
    "                   'support':selector.get_support()}, \n",
    "             index=X.columns).sort_values(by='score',ascending=False)"
   ]
  },
  {
   "cell_type": "markdown",
   "metadata": {},
   "source": [
    "Сгенерированные нами признаки имеют низкое значение оценочной функции (`scores_`), поэтому в дальнейшем селектор не будет их использовать (`get_support()=False`). \n",
    "\n",
    "В реальной задаче (когда количество шумовых признаков неизвестно) параметры `GenericUnivariateSelect` можно находить на кросс-валидации вместе с другими гиперпараметрами модели. Посмотрим, как изменится точность классификаторов после подбора их гиперпараметров, а также количества признаков селектора:"
   ]
  },
  {
   "cell_type": "code",
   "execution_count": 9,
   "metadata": {},
   "outputs": [
    {
     "name": "stdout",
     "output_type": "stream",
     "text": [
      "grid search results for rf\n",
      "scores = [0.8632776968200635, 0.8683443340928604, 0.8710308000627435, 0.8615748939138762, 0.8693334091828478], \n",
      "mean score = 0.86671 +/- 0.00364            \n",
      "best params = {'rf__max_depth': 12, 'rf__max_features': 0.3, 'selector__param': 5}\n"
     ]
    }
   ],
   "source": [
    "# добавим селектор в пайплайн к случайному лесу\n",
    "selector = ('selector', GenericUnivariateSelect(score_func=mutual_info_classif, \n",
    "                                                mode='k_best'))\n",
    "rf.steps.insert(0, selector)\n",
    "\n",
    "    \n",
    "# grid search\n",
    "rf_params = {'selector__param': np.arange(4,10),\n",
    "             'rf__max_depth': np.arange(2, 16, 2),\n",
    "             'rf__max_features': np.arange(0.3, 0.9, 0.2)}\n",
    "print('grid search results for rf')\n",
    "rf_grid = grid_search(model=rf, gs_params=rf_params)"
   ]
  },
  {
   "cell_type": "markdown",
   "metadata": {},
   "source": [
    "Для случайного леса средняя точность на кросс-валидации значительно выросла, а лучший результат получился всего для 5 признаков:"
   ]
  },
  {
   "cell_type": "code",
   "execution_count": 10,
   "metadata": {},
   "outputs": [
    {
     "data": {
      "image/png": "[encoded data removed]",
      "text/plain": [
       "<Figure size 432x432 with 1 Axes>"
      ]
     },
     "metadata": {
      "needs_background": "light"
     },
     "output_type": "display_data"
    }
   ],
   "source": [
    "# выведем признаки, отобранные селектором\n",
    "selected_features = [X.columns[i] for i, support\n",
    "                     in enumerate(rf_grid.best_estimator_['selector'].get_support()) if support]\n",
    "\n",
    "plot_features_scores(model=rf_grid.best_estimator_, \n",
    "                     data=X, target=y, column_names=selected_features, model_type='rf')"
   ]
  },
  {
   "cell_type": "markdown",
   "metadata": {},
   "source": [
    "Этот результат был получен после удаления шумовых признаков и признака fnlwgt, который при первоначальной оценке был самым значимым для модели. Однако из всех оригинальных признаков он имел наименьшее значение оценочной функции в `GenericUnivariateSelect`. Результаты оценки важности признаков после их отбора и настройки модели имеют более логичную интерпретацию – на заработок человека влияют именно характеристики человека, а не параметры самой выборки. Таким образом, статистический отбор признаков бывает полезен для увеличения точности некоторых типов моделей и получения менее смещённой оценки при интерпретации их результатов.\n",
    "\n",
    "\n",
    "Посмотрим, как изменятся коэффиценты у признаков после подбора коэффициента регуляризации у логистической регрессии."
   ]
  },
  {
   "cell_type": "code",
   "execution_count": 11,
   "metadata": {},
   "outputs": [
    {
     "name": "stdout",
     "output_type": "stream",
     "text": [
      "grid search results for lr\n",
      "scores = [0.820445329307105, 0.829874053687009, 0.8346493482101578, 0.8177211039148669, 0.8354590546776963], \n",
      "mean score = 0.82763 +/- 0.00729            \n",
      "best params = {'lr__C': 0.01}\n"
     ]
    },
    {
     "data": {
      "image/png": "[encoded data removed]",
      "text/plain": [
       "<Figure size 432x432 with 1 Axes>"
      ]
     },
     "metadata": {
      "needs_background": "light"
     },
     "output_type": "display_data"
    }
   ],
   "source": [
    "lr_params = {'lr__C': np.logspace(-3, 1.5, 10)}\n",
    "             \n",
    "print('grid search results for lr')\n",
    "lr_grid = grid_search(model=lr, gs_params=lr_params)\n",
    "\n",
    "plot_features_scores(model=lr_grid.best_estimator_, \n",
    "                     data=X, target=y, column_names=X.columns, model_type='lr')"
   ]
  },
  {
   "cell_type": "markdown",
   "metadata": {},
   "source": [
    "Средняя точность на кросс-валидации почти не изменилась, но скорректировались коэффициенты у шумовых признаков. Отметим, что сильная регуляризация (L1) может занулить излишнее количество признаков.\n",
    "\n",
    "Отобранные линейной моделью признаки можно подать на вход другой модели. Для этого воспользуемся методом [SelectFromModel](https://scikit-learn.org/stable/modules/generated/sklearn.feature_selection.SelectFromModel.html#sklearn.feature_selection.SelectFromModel), дадим ему на вход нашу настроенную линейную модель и обозначим граничное значение для отбора коэффициентов."
   ]
  },
  {
   "cell_type": "code",
   "execution_count": 12,
   "metadata": {},
   "outputs": [
    {
     "data": {
      "text/html": [
       "<div>\n",
       "<style scoped>\n",
       "    .dataframe tbody tr th:only-of-type {\n",
       "        vertical-align: middle;\n",
       "    }\n",
       "\n",
       "    .dataframe tbody tr th {\n",
       "        vertical-align: top;\n",
       "    }\n",
       "\n",
       "    .dataframe thead th {\n",
       "        text-align: right;\n",
       "    }\n",
       "</style>\n",
       "<table border=\"1\" class=\"dataframe\">\n",
       "  <thead>\n",
       "    <tr style=\"text-align: right;\">\n",
       "      <th></th>\n",
       "      <th>score</th>\n",
       "      <th>support</th>\n",
       "    </tr>\n",
       "  </thead>\n",
       "  <tbody>\n",
       "    <tr>\n",
       "      <th>education-num</th>\n",
       "      <td>0.796547</td>\n",
       "      <td>True</td>\n",
       "    </tr>\n",
       "    <tr>\n",
       "      <th>age</th>\n",
       "      <td>0.759419</td>\n",
       "      <td>True</td>\n",
       "    </tr>\n",
       "    <tr>\n",
       "      <th>hours-per-week</th>\n",
       "      <td>0.534709</td>\n",
       "      <td>True</td>\n",
       "    </tr>\n",
       "    <tr>\n",
       "      <th>capital-gain</th>\n",
       "      <td>0.435187</td>\n",
       "      <td>True</td>\n",
       "    </tr>\n",
       "    <tr>\n",
       "      <th>capital-loss</th>\n",
       "      <td>0.237207</td>\n",
       "      <td>True</td>\n",
       "    </tr>\n",
       "    <tr>\n",
       "      <th>fnlwgt</th>\n",
       "      <td>0.046698</td>\n",
       "      <td>False</td>\n",
       "    </tr>\n",
       "    <tr>\n",
       "      <th>norm_0</th>\n",
       "      <td>0.010349</td>\n",
       "      <td>False</td>\n",
       "    </tr>\n",
       "    <tr>\n",
       "      <th>unif_0</th>\n",
       "      <td>0.002101</td>\n",
       "      <td>False</td>\n",
       "    </tr>\n",
       "    <tr>\n",
       "      <th>norm_2</th>\n",
       "      <td>0.000000</td>\n",
       "      <td>False</td>\n",
       "    </tr>\n",
       "    <tr>\n",
       "      <th>unif_3</th>\n",
       "      <td>0.000000</td>\n",
       "      <td>False</td>\n",
       "    </tr>\n",
       "    <tr>\n",
       "      <th>lapl_2</th>\n",
       "      <td>0.000000</td>\n",
       "      <td>False</td>\n",
       "    </tr>\n",
       "    <tr>\n",
       "      <th>unif_2</th>\n",
       "      <td>0.000000</td>\n",
       "      <td>False</td>\n",
       "    </tr>\n",
       "    <tr>\n",
       "      <th>norm_1</th>\n",
       "      <td>0.000000</td>\n",
       "      <td>False</td>\n",
       "    </tr>\n",
       "    <tr>\n",
       "      <th>lapl_1</th>\n",
       "      <td>0.000000</td>\n",
       "      <td>False</td>\n",
       "    </tr>\n",
       "    <tr>\n",
       "      <th>unif_1</th>\n",
       "      <td>0.000000</td>\n",
       "      <td>False</td>\n",
       "    </tr>\n",
       "    <tr>\n",
       "      <th>lapl_0</th>\n",
       "      <td>0.000000</td>\n",
       "      <td>False</td>\n",
       "    </tr>\n",
       "    <tr>\n",
       "      <th>lapl_3</th>\n",
       "      <td>0.000000</td>\n",
       "      <td>False</td>\n",
       "    </tr>\n",
       "    <tr>\n",
       "      <th>norm_3</th>\n",
       "      <td>-0.018818</td>\n",
       "      <td>False</td>\n",
       "    </tr>\n",
       "  </tbody>\n",
       "</table>\n",
       "</div>"
      ],
      "text/plain": [
       "                   score  support\n",
       "education-num   0.796547     True\n",
       "age             0.759419     True\n",
       "hours-per-week  0.534709     True\n",
       "capital-gain    0.435187     True\n",
       "capital-loss    0.237207     True\n",
       "fnlwgt          0.046698    False\n",
       "norm_0          0.010349    False\n",
       "unif_0          0.002101    False\n",
       "norm_2          0.000000    False\n",
       "unif_3          0.000000    False\n",
       "lapl_2          0.000000    False\n",
       "unif_2          0.000000    False\n",
       "norm_1          0.000000    False\n",
       "lapl_1          0.000000    False\n",
       "unif_1          0.000000    False\n",
       "lapl_0          0.000000    False\n",
       "lapl_3          0.000000    False\n",
       "norm_3         -0.018818    False"
      ]
     },
     "execution_count": 12,
     "metadata": {},
     "output_type": "execute_result"
    }
   ],
   "source": [
    "lr_selector = SelectFromModel(estimator=lr_grid.best_estimator_['lr'], prefit=True, threshold=0.1)\n",
    "\n",
    "# посмотрим выбранные признаки признаки\n",
    "pd.DataFrame(data={'score':lr_selector.estimator.coef_[0],\n",
    "                   'support':lr_selector.get_support()}, \n",
    "             index=X.columns).sort_values(by='score',ascending=False)"
   ]
  },
  {
   "cell_type": "markdown",
   "metadata": {},
   "source": [
    "## Заключение.\n",
    "\n",
    "В статье были рассмотрено использование фильтров и встроенных методов в задаче отбора признаков. К достоинствам фильтров можно отнести низкую стоимость вычислений (линейно зависит от количества признаков) и интерпретируемость. К недостаткам – то, что они рассматривают каждый признак изолировано, поэтому не могут выявить более сложные зависимости в данных, например, зависимость от нескольких предикторов. Эти методы хорошо подойдут, если в данных большое количество признаков, но малое количество объектов (что встречается, например, в медицинских, или биологических исследованиях).\n",
    "\n",
    "Встроенные методы, в отличие от фильтров, требуют больших вычислительных ресурсов, а так же более точной настройки и подготовки данных. Однако, эти методы могут выявить уже более сложные зависимости. Для менее смещённой интерпретации коэффициентов признаков необходимо настроить регуляризацию модели. Важно помнить, что распределение коэфициентов у линейных моделей зависит от способа предобработки данных.  \n",
    "\n",
    "Описанные в статье методы отбора признаков можно комбинировать, либо сравнивать и подбирать их гиперпараметры используя средства sklearn или [специальных библиотек](https://github.com/stmyst/ML-notebooks/blob/master/hyperopt.ipynb)."
   ]
  },
  {
   "cell_type": "code",
   "execution_count": null,
   "metadata": {},
   "outputs": [],
   "source": []
  }
 ],
 "metadata": {
  "kernelspec": {
   "display_name": "Python 3",
   "language": "python",
   "name": "python3"
  },
  "language_info": {
   "codemirror_mode": {
    "name": "ipython",
    "version": 3
   },
   "file_extension": ".py",
   "mimetype": "text/x-python",
   "name": "python",
   "nbconvert_exporter": "python",
   "pygments_lexer": "ipython3",
   "version": "3.8.5"
  }
 },
 "nbformat": 4,
 "nbformat_minor": 4
}
